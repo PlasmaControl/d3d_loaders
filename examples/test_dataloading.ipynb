{
 "cells": [
  {
   "cell_type": "markdown",
   "id": "3a2db115",
   "metadata": {},
   "source": [
    "# Using d3d_loader to access D3D data\n",
    "\n",
    "The `d3d_loader` class implements a [pytorch Dataset](https://pytorch.org/docs/stable/data.html#map-style-datasets) that can be used to load D3D data, stored on traverse, for Machine Learning. \n",
    "\n",
    "\n",
    "From a user perspective, the `d3d_loader` lines up groups `1d` and `2d` signals over the same time interval and using a common sampling frequency. As a dataset, it can be used to iterate over this group of signals as is done in routine machine learning tasks\n",
    "\n",
    "The example below illustrates how to instantiate the `d3d_loader` and access multiple signals\n",
    "\n"
   ]
  },
  {
   "cell_type": "code",
   "execution_count": null,
   "id": "7d6f3940",
   "metadata": {},
   "outputs": [],
   "source": [
    "import sys\n",
    "sys.path.append(\"/home/rkube/repos/d3d_loaders\")\n",
    "from d3d_loaders.d3d_loaders import D3D_dataset\n",
    "from os.path import join\n",
    "\n",
    "import numpy as np\n",
    "import torch\n",
    "from torch.utils.data import DataLoader\n",
    "\n",
    "import logging\n",
    "logging.basicConfig(filename=\"d3d_loader.log\", level=logging.INFO)"
   ]
  },
  {
   "cell_type": "markdown",
   "id": "1b7eda31",
   "metadata": {},
   "source": [
    "## Setup\n",
    "\n",
    "To setup the dataloader we need to define a shot of interest and the time interval. We also need to define the desired sampling time on which all signals will be sub-samples. Additionally, we can load immediately load data on the gpu be specifying a device"
   ]
  },
  {
   "cell_type": "code",
   "execution_count": null,
   "id": "2d531ab1",
   "metadata": {},
   "outputs": [],
   "source": [
    "shotnr = 169113\n",
    "# Define interval for the signals\n",
    "t0 = 0.001      \n",
    "t1 = 4000.0\n",
    "# Define a sampling time. This must be smaller than the sampling frequency on which the data was collected.\n",
    "t_sample = 1.0 \n",
    "# Define the GPU as the device on which to store the data\n",
    "device = torch.device(\"cuda:0\" if torch.cuda.is_available() else \"cpu\")"
   ]
  },
  {
   "cell_type": "markdown",
   "id": "a2b7b517",
   "metadata": {},
   "source": [
    "Next we want to specify a list of predictor and target signals. Typically these signals will be used as\n",
    "`model(predictor) = target`. For prediction tasks, some time series should be shifted into the future to satisfy causality. Time shifts can be defined for each predictor and target signal individually using the `shift_target` dictionary. The keys correspond to signal names and the values correspond to a time shift in milliseconds.\n",
    "\n",
    "\n",
    "Here we use `pinj`, `neut`, and `ae_prob` as predictors. The first two signals are just the data loaded from `hdf5` files. The `ae_prob` signal is constructed from the ECE data through the RCN model."
   ]
  },
  {
   "cell_type": "code",
   "execution_count": null,
   "id": "cef338c5",
   "metadata": {},
   "outputs": [],
   "source": [
    "ds = D3D_dataset(shotnr, t0, t1, t_sample,\n",
    "                 predictors=[\"pinj\", \"neut\", \"ae_prob\"],\n",
    "                 targets=[\"ae_prob_delta\"],\n",
    "                 shift_target={\"ae_prob_delta\": 100.0},\n",
    "                 device=device)"
   ]
  },
  {
   "cell_type": "markdown",
   "id": "9848a39f",
   "metadata": {},
   "source": [
    "Once the dataset is instantiated, the `predictor` and `targets` signals are available as [`torch.tensor`](https://pytorch.org/docs/stable/tensors.html)."
   ]
  },
  {
   "cell_type": "code",
   "execution_count": null,
   "id": "ba1c07f0",
   "metadata": {},
   "outputs": [],
   "source": [
    "ds.predictors"
   ]
  },
  {
   "cell_type": "code",
   "execution_count": null,
   "id": "3da060bb",
   "metadata": {},
   "outputs": [],
   "source": [
    "ds.targets"
   ]
  },
  {
   "cell_type": "markdown",
   "id": "4bc12a68",
   "metadata": {},
   "source": [
    "Accessing predictor and target data follows pytorch conventions. We can index the dataset to get a tuple of all`(predictor, target)` samples.  "
   ]
  },
  {
   "cell_type": "code",
   "execution_count": null,
   "id": "3dce7e6f",
   "metadata": {},
   "outputs": [],
   "source": [
    "pred, target = ds[0]\n",
    "print(pred.shape, target.shape)"
   ]
  },
  {
   "cell_type": "markdown",
   "id": "c0eb54f4",
   "metadata": {},
   "source": [
    "## DataLoaders\n",
    "As a dataset, the `d3d_loader` can easily be used in [`DataLoaders`](https://pytorch.org/docs/stable/data.html#module-torch.utils.data). The code below illustrates usage.\n",
    "Features, such as shuffling, batch_sizes, and multi-threading are supported through this interface.\n"
   ]
  },
  {
   "cell_type": "code",
   "execution_count": null,
   "id": "a23b2145",
   "metadata": {},
   "outputs": [],
   "source": [
    "# Instantiate a dataloader which loads 5 samples per call\n",
    "loader = DataLoader(ds, batch_size=37)"
   ]
  },
  {
   "cell_type": "code",
   "execution_count": null,
   "id": "967af80a",
   "metadata": {},
   "outputs": [],
   "source": [
    "# Get the first item and print the sizes\n",
    "pred, target = next(iter(loader))\n",
    "print(pred.shape, target.shape)"
   ]
  }
 ],
 "metadata": {
  "kernelspec": {
   "display_name": "Python 3 (ipykernel)",
   "language": "python",
   "name": "python3"
  },
  "language_info": {
   "codemirror_mode": {
    "name": "ipython",
    "version": 3
   },
   "file_extension": ".py",
   "mimetype": "text/x-python",
   "name": "python",
   "nbconvert_exporter": "python",
   "pygments_lexer": "ipython3",
   "version": "3.10.4"
  }
 },
 "nbformat": 4,
 "nbformat_minor": 5
}
