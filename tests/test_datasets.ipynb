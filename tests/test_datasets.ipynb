{
 "cells": [
  {
   "cell_type": "code",
   "execution_count": 8,
   "metadata": {},
   "outputs": [],
   "source": [
    "import matplotlib.pyplot as plt\n",
    "\n",
    "import numpy as np\n",
    "import torch\n",
    "import sys\n",
    "sys.path.append(\"..\")\n",
    "from d3d_loaders.signal1d import *\n",
    "from d3d_loaders.signal2d import *\n",
    "from d3d_loaders.d3d_loaders import D3D_dataset"
   ]
  },
  {
   "cell_type": "code",
   "execution_count": null,
   "metadata": {},
   "outputs": [],
   "source": [
    "# Sample parameters\n",
    "shotn = 169113\n",
    "tstart = 0.001\n",
    "tend = 2000.0\n",
    "tsample = 1.0\n",
    "t_params = {\n",
    "    \"tstart\" : tstart,\n",
    "    \"tend\"   : tend,\n",
    "    \"tsample\": tsample\n",
    "}\n",
    "tb = np.arange(tstart, tend, tsample)\n",
    "shots = np.loadtxt('/projects/EKOLEMEN/ae_andy/shotnums.txt', int)"
   ]
  },
  {
   "cell_type": "markdown",
   "metadata": {},
   "source": [
    "### Test 1D Signals"
   ]
  },
  {
   "cell_type": "code",
   "execution_count": 2,
   "metadata": {},
   "outputs": [],
   "source": [
    "sig_pinj = signal_pinj(shotn, t_params)\n",
    "plt.plot(tb, sig_pinj.data.numpy())"
   ]
  },
  {
   "cell_type": "code",
   "execution_count": null,
   "metadata": {},
   "outputs": [],
   "source": [
    "sig_neut = signal_neut(shotn, t_params)\n",
    "plt.plot(tb, sig_neut.data.numpy())"
   ]
  },
  {
   "cell_type": "code",
   "execution_count": null,
   "metadata": {},
   "outputs": [],
   "source": [
    "sig_ip = signal_ip(shotn, t_params)\n",
    "plt.plot(tb, sig_ip.data.numpy())"
   ]
  },
  {
   "cell_type": "code",
   "execution_count": null,
   "metadata": {},
   "outputs": [],
   "source": [
    "shotn = 163163\n",
    "sig_ech = signal_ech(shotn, t_params)\n",
    "plt.plot(tb, sig_ech.data.numpy())"
   ]
  },
  {
   "cell_type": "code",
   "execution_count": null,
   "metadata": {},
   "outputs": [],
   "source": [
    "sig_q95 = signal_q95(shotn, t_params)\n",
    "plt.plot(tb, sig_q95.data.numpy())"
   ]
  },
  {
   "cell_type": "code",
   "execution_count": null,
   "metadata": {},
   "outputs": [],
   "source": [
    "sig_kappa = signal_kappa(shotn, t_params)\n",
    "plt.plot(tb, sig_kappa.data.numpy())"
   ]
  },
  {
   "cell_type": "markdown",
   "metadata": {},
   "source": [
    "### Check 2D Signals"
   ]
  },
  {
   "cell_type": "code",
   "execution_count": null,
   "metadata": {},
   "outputs": [],
   "source": [
    "sig_dens = signal_dens(shotn, t_params)\n",
    "first_prof = sig_dens.data.numpy()[0,:]\n",
    "plt.plot(tb, first_prof)"
   ]
  },
  {
   "cell_type": "code",
   "execution_count": null,
   "metadata": {},
   "outputs": [],
   "source": [
    "sig_temp = signal_temp(shotn, t_params)\n",
    "first_prof = sig_temp.data.numpy()[0,:]\n",
    "plt.plot(tb, first_prof)"
   ]
  },
  {
   "cell_type": "code",
   "execution_count": null,
   "metadata": {},
   "outputs": [],
   "source": [
    "sig_pres = signal_pres(shotn, t_params)\n",
    "first_prof = sig_pres.data.numpy()[0,:]\n",
    "plt.plot(tb, first_prof)"
   ]
  },
  {
   "cell_type": "code",
   "execution_count": null,
   "metadata": {},
   "outputs": [],
   "source": [
    "sig_q = signal_q(shotn, t_params)\n",
    "first_prof = sig_q.data.numpy()[0,:]\n",
    "plt.plot(tb, first_prof)"
   ]
  },
  {
   "cell_type": "code",
   "execution_count": null,
   "metadata": {},
   "outputs": [],
   "source": [
    "sig_ae_prob = signal_ae_prob(shotn, t_params)\n",
    "plt.plot(tb, sig_ae_prob.data[:, 0])\n",
    "plt.plot(tb, sig_ae_prob.data[:, 1])\n",
    "plt.plot(tb, sig_ae_prob.data[:, 2])\n",
    "plt.plot(tb, sig_ae_prob.data[:, 3])\n",
    "plt.plot(tb, sig_ae_prob.data[:, 4])\n",
    "plt.show()"
   ]
  },
  {
   "cell_type": "code",
   "execution_count": null,
   "metadata": {},
   "outputs": [],
   "source": [
    "sig_ae_prob_delta = signal_ae_prob_delta(shotn, t_params)\n",
    "plt.plot(tb, sig_ae_prob_delta.data[:, 0])\n",
    "plt.plot(tb, sig_ae_prob_delta.data[:, 1])\n",
    "plt.plot(tb, sig_ae_prob_delta.data[:, 2])\n",
    "plt.plot(tb, sig_ae_prob_delta.data[:, 3])\n",
    "plt.plot(tb, sig_ae_prob_delta.data[:, 4])\n",
    "plt.show()"
   ]
  },
  {
   "cell_type": "code",
   "execution_count": null,
   "metadata": {},
   "outputs": [],
   "source": [
    "sig_tri_l = signal_tri_l(shotn, t_params)\n",
    "plt.plot(tb, sig_tri_l.data[0,:])"
   ]
  },
  {
   "cell_type": "code",
   "execution_count": null,
   "metadata": {},
   "outputs": [],
   "source": [
    "sig_tri_u = signal_tri_u(shotn, t_params)\n",
    "plt.plot(tb, sig_tri_u.data[0,:])"
   ]
  },
  {
   "cell_type": "code",
   "execution_count": null,
   "metadata": {},
   "outputs": [],
   "source": [
    "sig_ece = signal_ece(shotn, t_params, channels=range(1,10))\n",
    "for chan in range(10):\n",
    "    plt.plot(tb, sig_ece.data[:,chan])\n",
    "plt.show()"
   ]
  },
  {
   "cell_type": "markdown",
   "metadata": {},
   "source": [
    "### Test Full Data Loader"
   ]
  },
  {
   "cell_type": "code",
   "execution_count": null,
   "metadata": {},
   "outputs": [],
   "source": [
    "my_ds = D3D_dataset(shotn, t_params, predictors=[\"pinj\",\"ae_prob\", \"neut\"])"
   ]
  },
  {
   "cell_type": "code",
   "execution_count": null,
   "metadata": {},
   "outputs": [],
   "source": [
    "list(my_ds.predictors.keys())"
   ]
  },
  {
   "cell_type": "code",
   "execution_count": null,
   "metadata": {},
   "outputs": [],
   "source": [
    "list(my_ds.targets.keys())"
   ]
  }
 ],
 "metadata": {
  "kernelspec": {
   "display_name": "Python 3.9.13 64-bit (windows store)",
   "language": "python",
   "name": "python3"
  },
  "language_info": {
   "codemirror_mode": {
    "name": "ipython",
    "version": 3
   },
   "file_extension": ".py",
   "mimetype": "text/x-python",
   "name": "python",
   "nbconvert_exporter": "python",
   "pygments_lexer": "ipython3",
   "version": "3.9.13"
  },
  "orig_nbformat": 4,
  "vscode": {
   "interpreter": {
    "hash": "d4c368f49471945f7a22d09637ac0c0a3fc9b387e8d0bf26b282b3740e2c9027"
   }
  }
 },
 "nbformat": 4,
 "nbformat_minor": 2
}
