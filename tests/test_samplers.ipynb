{
 "cells": [
  {
   "cell_type": "markdown",
   "id": "e3f3dda1",
   "metadata": {},
   "source": [
    "Explore some ideas how to write samplers more concise"
   ]
  },
  {
   "cell_type": "code",
   "execution_count": 2,
   "id": "d1c2ba91",
   "metadata": {},
   "outputs": [],
   "source": [
    "import random\n",
    "import numpy as np"
   ]
  },
  {
   "cell_type": "code",
   "execution_count": 53,
   "id": "5b641d36",
   "metadata": {},
   "outputs": [],
   "source": [
    "from torch.utils.data import Sampler\n",
    "import torch.distributed as dist"
   ]
  },
  {
   "cell_type": "code",
   "execution_count": 4,
   "id": "d5c1b063",
   "metadata": {},
   "outputs": [],
   "source": [
    "# Define a test case\n",
    "\n",
    "num_elements = [17, 21, 11]\n",
    "seq_length = 4\n",
    "batch_size = 3\n",
    "\n",
    "\n",
    "data_arrs = [np.zeros(n) for n in num_elements]"
   ]
  },
  {
   "cell_type": "code",
   "execution_count": 5,
   "id": "1f54121c",
   "metadata": {},
   "outputs": [],
   "source": [
    "# Samplers for single-shot dataset\n",
    "\n",
    "class BatchedSampler(Sampler):\n",
    "    r\"\"\"Sample linear sequences, allows for batching and shuffling.\n",
    "\n",
    "    Similar to SequentialSampler, but returns a batch of sequences in each iteration.\n",
    "    \"\"\"\n",
    "    def __init__(self, num_elements, seq_length, batch_size, shuffle=False, seed=0):\n",
    "        self.num_elements = num_elements  # Length of the dataset\n",
    "        self.seq_length = seq_length      # Length of the sequences to sample\n",
    "        self.batch_size = batch_size      # Batch size\n",
    "        self.shuffle = shuffle            # Shuffle the start of the sequences?\n",
    "        self.seed = seed                  # Seed for shuffling\n",
    "        self.epoch = 0                    # Increase this after each epoch to get different shuffling in next iteration\n",
    "    \n",
    "    def set_epoch(self, epoch):\n",
    "        \"\"\"Update epoch to adjust random seed.\"\"\"\n",
    "        self.sepoch = epoch\n",
    "        \n",
    "    def __iter__(self):\n",
    "        \"\"\"Returns fixed-length, ordered sequences that cover the dataset.\"\"\"\n",
    "        idx_permuted = [(ix) for ix in range(self.num_elements - self.seq_length )]\n",
    "        if self.shuffle:\n",
    "            random.seed(self.seed + self.epoch)\n",
    "            random.shuffle(idx_permuted)\n",
    "                      \n",
    "        # Slicing the list like this takes care of partial batches\n",
    "        for start in range(0, len(idx_permuted), self.batch_size):\n",
    "            yield [range(ix, ix + self.seq_length + 1) for ix in idx_permuted[start:start+self.batch_size]]\n",
    "            "
   ]
  },
  {
   "cell_type": "code",
   "execution_count": 60,
   "id": "900888b3",
   "metadata": {},
   "outputs": [],
   "source": [
    "s0 = BatchedSampler(num_elements[0], seq_length, batch_size, shuffle=False, seed=0)"
   ]
  },
  {
   "cell_type": "code",
   "execution_count": 61,
   "id": "de10993d",
   "metadata": {},
   "outputs": [
    {
     "name": "stdout",
     "output_type": "stream",
     "text": [
      "[range(0, 5), range(1, 6), range(2, 7)]\n",
      "[range(3, 8), range(4, 9), range(5, 10)]\n",
      "[range(6, 11), range(7, 12), range(8, 13)]\n",
      "[range(9, 14), range(10, 15), range(11, 16)]\n",
      "[range(12, 17)]\n"
     ]
    }
   ],
   "source": [
    "for s in s0:\n",
    "    print(s)\n",
    "    for ix in s:\n",
    "        data_arrs[0][ix]"
   ]
  },
  {
   "cell_type": "code",
   "execution_count": 8,
   "id": "ad9a7f80",
   "metadata": {},
   "outputs": [
    {
     "name": "stdout",
     "output_type": "stream",
     "text": [
      "[6, 5, 3, 9, 7, 0, 1, 4, 2, 8]\n",
      "[6, 5, 3]\n",
      "[9, 7, 0]\n",
      "[1, 4, 2]\n",
      "[8]\n"
     ]
    }
   ],
   "source": [
    "l = list(range(10))\n",
    "random.shuffle(l)\n",
    "\n",
    "print(l)\n",
    "for s in range(0, 10, 3):\n",
    "    print(l[s:s+3])\n",
    "\n",
    "\n"
   ]
  },
  {
   "cell_type": "code",
   "execution_count": 9,
   "id": "c6832328",
   "metadata": {},
   "outputs": [],
   "source": [
    "# This is the basic sequential batched sampler for multi-shot dataset.\n",
    "# It iterates over each shot and returns sequences of a fixed length, starting at 0, until a shot is exhausted.\n",
    "# Then it proceeds to the next shot\n",
    "\n",
    "\n",
    "class SequentialBatchedSampler_multi(Sampler):\n",
    "    r\"\"\"Sample batched, linear sequences from multishot dataset.\n",
    "    \n",
    "    Args:\n",
    "        num_elements (List[Int]): Elements per dataset.\n",
    "        seq_length (Int) : Length of sequences to sample\n",
    "        batch_size (Int) : Number of sequences to return per iteration.\n",
    "    \"\"\"\n",
    "    def __init__(self, num_elements, seq_length, batch_size):\n",
    "        self.num_elements = num_elements\n",
    "        self.num_shots = len(num_elements)\n",
    "        self.seq_length = seq_length\n",
    "        self.batch_size = batch_size\n",
    "\n",
    "    def __iter__(self):\n",
    "        \"\"\"Return a batch of linear sequences.\n",
    "        \n",
    "        * Always exhaust one dataset, even if it means that the batch will be smaller than \n",
    "          requested batch_size, before continuing on the next shot.\n",
    "        \"\"\"\n",
    "        for s in range(0, self.num_shots):\n",
    "            for start in range(0, self.num_elements[s] - self.seq_length - 1, self.batch_size):\n",
    "                yield [(s, range(start + b, start + b + self.seq_length + 1)) for b in range(self.batch_size) if start + b + self.seq_length + 1 <= self.num_elements[s]]\n",
    "    "
   ]
  },
  {
   "cell_type": "code",
   "execution_count": 10,
   "id": "58a55ad1",
   "metadata": {},
   "outputs": [],
   "source": [
    "s1 = SequentialBatchedSampler_multi(num_elements, seq_length, batch_size)"
   ]
  },
  {
   "cell_type": "code",
   "execution_count": 11,
   "id": "dff4400c",
   "metadata": {},
   "outputs": [
    {
     "name": "stdout",
     "output_type": "stream",
     "text": [
      "[(0, range(0, 5)), (0, range(1, 6)), (0, range(2, 7))]\n",
      "[(0, range(3, 8)), (0, range(4, 9)), (0, range(5, 10))]\n",
      "[(0, range(6, 11)), (0, range(7, 12)), (0, range(8, 13))]\n",
      "[(0, range(9, 14)), (0, range(10, 15)), (0, range(11, 16))]\n",
      "[(1, range(0, 5)), (1, range(1, 6)), (1, range(2, 7))]\n",
      "[(1, range(3, 8)), (1, range(4, 9)), (1, range(5, 10))]\n",
      "[(1, range(6, 11)), (1, range(7, 12)), (1, range(8, 13))]\n",
      "[(1, range(9, 14)), (1, range(10, 15)), (1, range(11, 16))]\n",
      "[(1, range(12, 17)), (1, range(13, 18)), (1, range(14, 19))]\n",
      "[(1, range(15, 20)), (1, range(16, 21))]\n",
      "[(2, range(0, 5)), (2, range(1, 6)), (2, range(2, 7))]\n",
      "[(2, range(3, 8)), (2, range(4, 9)), (2, range(5, 10))]\n",
      "12 samples sampled\n"
     ]
    }
   ],
   "source": [
    "ctr = 0\n",
    "for s in s1:\n",
    "    if ctr < 50:\n",
    "        print(s)\n",
    "    ctr += 1\n",
    "    \n",
    "print(f\"{ctr} samples sampled\")"
   ]
  },
  {
   "cell_type": "code",
   "execution_count": 12,
   "id": "a7820a2e",
   "metadata": {},
   "outputs": [],
   "source": [
    "# Now we modify a bit. The goal is to have it shuffle in a deterministic way.\n",
    "# Take inspiration from https://pytorch.org/docs/stable/_modules/torch/utils/data/distributed.html#DistributedSampler\n",
    "\n",
    "class sampler_v2(Sampler):\n",
    "    def __init__(self, num_elements, seq_length, batch_size, shuffle=False, seed=0):\n",
    "        self.num_elements = num_elements\n",
    "        self.num_shots = len(num_elements)\n",
    "        self.seq_length = seq_length\n",
    "        self.batch_size = batch_size\n",
    "        self.shuffle = shuffle\n",
    "        self.seed = seed\n",
    "        self.epoch = 0\n",
    "        print(f\"self.shuffle = {self.shuffle}, self.seed = {self.seed}\")\n",
    "        \n",
    "    def set_epoch(self, epoch):\n",
    "        \"\"\"Sets epoch for this sampler.\n",
    "        When :attr:`shuffle=True`, this ensures all replicas\n",
    "        use a different random ordering for each epoch. Otherwise, the next iteration of this\n",
    "        sampler will yield the same ordering.\n",
    "        \n",
    "        Args:\n",
    "            epoch (int) : Epoch number\n",
    "        \"\"\"\n",
    "        self.epoch = epoch\n",
    "        \n",
    "    def __iter__(self):\n",
    "        idx_permuted = [(s, i)  for s in range(self.num_shots) for i in range(self.num_elements[s] - self.seq_length)]\n",
    "        if self.shuffle:\n",
    "            print(\"Shuffling\")\n",
    "            random.seed(self.seed + self.epoch)\n",
    "            random.shuffle(idx_permuted)\n",
    "\n",
    "        \n",
    "        full_batches = len(idx_permuted) // self.batch_size # Number of batches we can fill with the specified batch size\n",
    "        # Check if the last batch is full or partial\n",
    "        # We iterate up to num_batches. If in the loop the batch_counter == full_batches, we will have a partial patch\n",
    "        if len(idx_permuted) != full_batches * self.batch_size:\n",
    "            remaining_samples = len(idx_permuted) - full_batches * self.batch_size\n",
    "            partial_batch = True\n",
    "            num_batches = full_batches + 1\n",
    "        else: \n",
    "            partial_batch = False\n",
    "            num_batches = full_batches\n",
    "     \n",
    "        # Number of batches to draw. Round up.\n",
    "        #num_batches = self.num_shots * (self.num_elements - self.seq_length) // self.batch_size\n",
    "        for ix_b in range(0, num_batches):\n",
    "            # If ix_x is full_batches (remember 0-based indexing and num_batches is excludede in range)\n",
    "            # we have need to fill a partial batch with the remaining samples.\n",
    "            if ix_b == full_batches:  \n",
    "                selected = idx_permuted[-remaining_samples:]\n",
    "            else:\n",
    "                # Fill a full batch\n",
    "                # Select starting points for sequences\n",
    "                selected = idx_permuted[(ix_b * self.batch_size):((ix_b + 1) * self.batch_size)]\n",
    "            # Remember to return a list. PyTorch dataloader passes each item in the\n",
    "            # returned list to dataset.__getidx__. If we only return a single list,\n",
    "            # each scalar index in that list would be passed to __getidx__.\n",
    "            # If we return a list of lists, that inner list will be passed to __getidx__.\n",
    "            # Then this list will be used for indexing.\n",
    "            # Long story short: pass list of lists, not a single list.\n",
    "            yield [(s[0], range(s[1], s[1] + self.seq_length + 1)) for s in selected]"
   ]
  },
  {
   "cell_type": "code",
   "execution_count": 13,
   "id": "9399998e",
   "metadata": {},
   "outputs": [
    {
     "name": "stdout",
     "output_type": "stream",
     "text": [
      "self.shuffle = False, self.seed = 1337\n"
     ]
    }
   ],
   "source": [
    "s2 = sampler_v2(num_elements, seq_length, batch_size, shuffle=False, seed=1337)"
   ]
  },
  {
   "cell_type": "code",
   "execution_count": 14,
   "id": "addde979",
   "metadata": {},
   "outputs": [
    {
     "name": "stdout",
     "output_type": "stream",
     "text": [
      "[(0, range(0, 5)), (0, range(1, 6)), (0, range(2, 7))]\n",
      "[(0, range(3, 8)), (0, range(4, 9)), (0, range(5, 10))]\n",
      "[(0, range(6, 11)), (0, range(7, 12)), (0, range(8, 13))]\n",
      "[(0, range(9, 14)), (0, range(10, 15)), (0, range(11, 16))]\n",
      "[(0, range(12, 17)), (1, range(0, 5)), (1, range(1, 6))]\n",
      "[(1, range(2, 7)), (1, range(3, 8)), (1, range(4, 9))]\n",
      "[(1, range(5, 10)), (1, range(6, 11)), (1, range(7, 12))]\n",
      "[(1, range(8, 13)), (1, range(9, 14)), (1, range(10, 15))]\n",
      "[(1, range(11, 16)), (1, range(12, 17)), (1, range(13, 18))]\n",
      "[(1, range(14, 19)), (1, range(15, 20)), (1, range(16, 21))]\n",
      "[(2, range(0, 5)), (2, range(1, 6)), (2, range(2, 7))]\n",
      "[(2, range(3, 8)), (2, range(4, 9)), (2, range(5, 10))]\n",
      "[(2, range(6, 11))]\n",
      "13 samples sampled\n"
     ]
    }
   ],
   "source": [
    "ctr = 0\n",
    "for s in s2:\n",
    "    if ctr < 50:\n",
    "        print(s)\n",
    "    ctr += 1\n",
    "    \n",
    "print(f\"{ctr} samples sampled\")"
   ]
  },
  {
   "cell_type": "code",
   "execution_count": 15,
   "id": "0f0ab5da",
   "metadata": {},
   "outputs": [
    {
     "name": "stdout",
     "output_type": "stream",
     "text": [
      "[(0, range(0, 5)), (0, range(1, 6)), (0, range(2, 7))]\n",
      "[(0, range(3, 8)), (0, range(4, 9)), (0, range(5, 10))]\n",
      "[(0, range(6, 11)), (0, range(7, 12)), (0, range(8, 13))]\n",
      "[(0, range(9, 14)), (0, range(10, 15)), (0, range(11, 16))]\n",
      "[(0, range(12, 17)), (1, range(0, 5)), (1, range(1, 6))]\n",
      "13 samples sampled\n"
     ]
    }
   ],
   "source": [
    "s2.set_epoch(1)\n",
    "ctr = 0\n",
    "for s in s2:\n",
    "    if ctr < 5:\n",
    "        print(s)\n",
    "    ctr += 1\n",
    "    \n",
    "print(f\"{ctr} samples sampled\")"
   ]
  },
  {
   "cell_type": "markdown",
   "id": "247fee9e",
   "metadata": {},
   "source": [
    "## Explore index splitting for distributed samplers"
   ]
  },
  {
   "cell_type": "code",
   "execution_count": 16,
   "id": "cc696749",
   "metadata": {},
   "outputs": [
    {
     "name": "stdout",
     "output_type": "stream",
     "text": [
      "Entire list:  [0, 3, 7, 2, 1, 6, 4, 5, 8, 9]\n",
      "rank=0, 4 elements:  [0, 2, 4, 9]\n",
      "rank=1, 3 elements:  [3, 1, 5]\n",
      "rank=2, 3 elements:  [7, 6, 8]\n"
     ]
    }
   ],
   "source": [
    "# We are working with rank and num_replicas. Rank is the MPI rank. num_replicas is the MPI_WORLD_SIZE\n",
    "# Try how we can split a list between these\n",
    "\n",
    "total_size = 10\n",
    "\n",
    "idx_permuted = list(range(total_size))\n",
    "random.seed(1337)\n",
    "random.shuffle(idx_permuted)\n",
    "\n",
    "print(\"Entire list: \", idx_permuted)\n",
    "\n",
    "num_replicas = 3\n",
    "for rank in range(num_replicas):\n",
    "    this_rank = idx_permuted[rank:total_size:num_replicas]\n",
    "    print(f\"rank={rank}, {len(this_rank)} elements: \", this_rank)\n",
    "\n"
   ]
  },
  {
   "cell_type": "code",
   "execution_count": 235,
   "id": "6c576b29",
   "metadata": {},
   "outputs": [
    {
     "data": {
      "text/plain": [
       "True"
      ]
     },
     "execution_count": 235,
     "metadata": {},
     "output_type": "execute_result"
    }
   ],
   "source": [
    "idx_permuted[None:total_size:None] == idx_permuted"
   ]
  },
  {
   "cell_type": "code",
   "execution_count": 57,
   "id": "cd5ef5f2",
   "metadata": {},
   "outputs": [],
   "source": [
    "# Samplers for single-shot dataset, using multiple replicas\n",
    "\n",
    "class sampler_v3(Sampler):\n",
    "    r\"\"\"Sample linear sequences, allows for batching and shuffling.\n",
    "\n",
    "    Similar to SequentialSampler, but returns a batch of sequences in each iteration.\n",
    "    \"\"\"\n",
    "    def __init__(self, num_elements, seq_length, batch_size, num_replicas=None, rank=None, shuffle=False, seed=0):\n",
    "        self.num_elements = num_elements  # Length of the dataset\n",
    "        self.seq_length = seq_length      # Length of the sequences to sample\n",
    "        self.batch_size = batch_size      # Batch size\n",
    "        self.shuffle = shuffle            # Shuffle the start of the sequences?\n",
    "        self.seed = seed                  # Seed for shuffling\n",
    "        self.epoch = 0                    # Increase this after each epoch to get different shuffling in next iteration\n",
    "        \n",
    "        if num_replicas is None:\n",
    "            if not dist.is_available():\n",
    "                raise RuntimeError(\"Requires distributed package to be available\")\n",
    "            num_replicas = dist.get_world_size()\n",
    "        if rank is None:\n",
    "            if not dist.is_available():\n",
    "                raise RuntimeError(\"Requires distributed package to be available\")\n",
    "            rank = dist.get_rank()\n",
    "        if rank >= num_replicas or rank < 0:\n",
    "            raise ValueError(\n",
    "                f\"Invalid rank {rank}, rank should be in the interval\"\n",
    "                f\" [0, {num_replicas - 1}]\")\n",
    "        self.num_replicas = num_replicas\n",
    "        self.rank = rank\n",
    "        \n",
    "        print(f\"Sampler, rank={self.rank}\")\n",
    "\n",
    "            \n",
    "    def set_epoch(self, epoch):\n",
    "        \"\"\"Update epoch to adjust random seed.\"\"\"\n",
    "        self.sepoch = epoch\n",
    "        \n",
    "    def __iter__(self):\n",
    "        \"\"\"Returns fixed-length, ordered sequences that cover the dataset.\"\"\"\n",
    "        idx_permuted = [(ix) for ix in range(self.num_elements - self.seq_length )]\n",
    "        if self.shuffle:\n",
    "            random.seed(self.seed + self.epoch)\n",
    "            random.shuffle(idx_permuted)\n",
    "            \n",
    "        idx_permuted = idx_permuted[self.rank:self.num_elements:self.num_replicas]\n",
    "        print(f\"{self.rank}, {self.num_elements}, {self.num_replicas}: idx_permuted = {idx_permuted}\")\n",
    "                      \n",
    "        # Slicing the list like this takes care of partial batches\n",
    "        for start in range(0, len(idx_permuted), self.batch_size):\n",
    "            yield [range(ix, ix + self.seq_length + 1) for ix in idx_permuted[start:start+self.batch_size]]"
   ]
  },
  {
   "cell_type": "code",
   "execution_count": 66,
   "id": "128c4380",
   "metadata": {},
   "outputs": [
    {
     "name": "stdout",
     "output_type": "stream",
     "text": [
      "Sampler, rank=0\n",
      "Sampler, rank=0\n",
      "Sampler, rank=1\n"
     ]
    }
   ],
   "source": [
    "ix = 2\n",
    "s3 = sampler_v3(num_elements[ix], seq_length, batch_size, num_replicas=1, rank=0, shuffle=True, seed=1337)\n",
    "s3_0 = sampler_v3(num_elements[ix], seq_length, batch_size, num_replicas=2, rank=0, shuffle=True, seed=1337)\n",
    "s3_1 = sampler_v3(num_elements[ix], seq_length, batch_size, num_replicas=2, rank=1, shuffle=True, seed=1337)"
   ]
  },
  {
   "cell_type": "code",
   "execution_count": 67,
   "id": "5e37a3f4",
   "metadata": {},
   "outputs": [
    {
     "name": "stdout",
     "output_type": "stream",
     "text": [
      "0, 11, 1: idx_permuted = [0, 5, 3, 1, 2, 6, 4]\n",
      "[range(0, 5), range(5, 10), range(3, 8)]\n",
      "[range(1, 6), range(2, 7), range(6, 11)]\n",
      "[range(4, 9)]\n",
      "3 samples sampled\n",
      "=================================================\n",
      "0, 11, 2: idx_permuted = [0, 3, 2, 4]\n",
      "[range(0, 5), range(3, 8), range(2, 7)]\n",
      "[range(4, 9)]\n",
      "2 samples sampled\n",
      "=================================================\n",
      "1, 11, 2: idx_permuted = [5, 1, 6]\n",
      "[range(5, 10), range(1, 6), range(6, 11)]\n",
      "1 samples sampled\n"
     ]
    }
   ],
   "source": [
    "# Sampler for single rank\n",
    "s3.set_epoch(1)\n",
    "ctr = 0\n",
    "for s in s3:\n",
    "    if ctr < 5:\n",
    "        print(s)\n",
    "    ctr += 1\n",
    "\n",
    "print(f\"{ctr} samples sampled\")\n",
    "\n",
    "\n",
    "for ss in [s3_0, s3_1]:\n",
    "    print(\"=================================================\")\n",
    "    ss.set_epoch(1)\n",
    "    ctr = 0\n",
    "    for s in ss:\n",
    "        if ctr < 5:\n",
    "            print(s)\n",
    "        ctr += 1\n",
    "\n",
    "    print(f\"{ctr} samples sampled\")"
   ]
  },
  {
   "cell_type": "code",
   "execution_count": null,
   "id": "adb0e59d",
   "metadata": {},
   "outputs": [],
   "source": []
  },
  {
   "cell_type": "code",
   "execution_count": null,
   "id": "a784002e",
   "metadata": {},
   "outputs": [],
   "source": []
  },
  {
   "cell_type": "code",
   "execution_count": 75,
   "id": "7e5911a8",
   "metadata": {},
   "outputs": [],
   "source": [
    "# Now we modify a bit. The goal is to have it shuffle in a deterministic way.\n",
    "# Take inspiration from https://pytorch.org/docs/stable/_modules/torch/utils/data/distributed.html#DistributedSampler\n",
    "\n",
    "class sampler_v4(Sampler):\n",
    "    def __init__(self, num_elements, seq_length, batch_size, num_replicas=None, rank=None, shuffle=False, seed=0):\n",
    "        self.num_elements = num_elements\n",
    "        self.num_shots = len(num_elements)\n",
    "        self.seq_length = seq_length\n",
    "        self.batch_size = batch_size\n",
    "        self.shuffle = shuffle\n",
    "        self.seed = seed\n",
    "        self.epoch = 0\n",
    "        \n",
    "        if num_replicas is None:\n",
    "            if not dist.is_available():\n",
    "                raise RuntimeError(\"Requires distributed package to be available\")\n",
    "            num_replicas = dist.get_world_size()\n",
    "        if rank is None:\n",
    "            if not dist.is_available():\n",
    "                raise RuntimeError(\"Requires distributed package to be available\")\n",
    "            rank = dist.get_rank()\n",
    "        if rank >= num_replicas or rank < 0:\n",
    "            raise ValueError(\n",
    "                f\"Invalid rank {rank}, rank should be in the interval\"\n",
    "                f\" [0, {num_replicas - 1}]\")\n",
    "        self.num_replicas = num_replicas\n",
    "        self.rank = rank\n",
    "        \n",
    "        print(f\"Sampler, rank={self.rank}\")\n",
    "        \n",
    "    def set_epoch(self, epoch):\n",
    "        \"\"\"Sets epoch for this sampler.\n",
    "        When :attr:`shuffle=True`, this ensures all replicas\n",
    "        use a different random ordering for each epoch. Otherwise, the next iteration of this\n",
    "        sampler will yield the same ordering.\n",
    "        \n",
    "        Args:\n",
    "            epoch (int) : Epoch number\n",
    "        \"\"\"\n",
    "        self.epoch = epoch\n",
    "        \n",
    "    def __iter__(self):\n",
    "        idx_permuted = [(s, i)  for s in range(self.num_shots) for i in range(self.num_elements[s] - self.seq_length)]\n",
    "        if self.shuffle:\n",
    "            print(\"Shuffling\")\n",
    "            random.seed(self.seed + self.epoch)\n",
    "            random.shuffle(idx_permuted)\n",
    "        \n",
    "        # Sub-sample for replicas.\n",
    "        ll = len(idx_permuted)\n",
    "        idx_permuted = idx_permuted[self.rank:ll:self.num_replicas]\n",
    "        print(f\"{self.rank}, {len(idx_permuted)}, {self.num_replicas}: idx_permuted = {idx_permuted}\")\n",
    "    \n",
    "        \n",
    "        full_batches = len(idx_permuted) // self.batch_size # Number of batches we can fill with the specified batch size\n",
    "        # Check if the last batch is full or partial\n",
    "        # We iterate up to num_batches. If in the loop the batch_counter == full_batches, we will have a partial patch\n",
    "        if len(idx_permuted) != full_batches * self.batch_size:\n",
    "            remaining_samples = len(idx_permuted) - full_batches * self.batch_size\n",
    "            partial_batch = True\n",
    "            num_batches = full_batches + 1\n",
    "        else: \n",
    "            partial_batch = False\n",
    "            num_batches = full_batches\n",
    "     \n",
    "        # Number of batches to draw. Round up.\n",
    "        #num_batches = self.num_shots * (self.num_elements - self.seq_length) // self.batch_size\n",
    "        for ix_b in range(0, num_batches):\n",
    "            # If ix_x is full_batches (remember 0-based indexing and num_batches is excludede in range)\n",
    "            # we have need to fill a partial batch with the remaining samples.\n",
    "            if ix_b == full_batches:  \n",
    "                selected = idx_permuted[-remaining_samples:]\n",
    "            else:\n",
    "                # Fill a full batch\n",
    "                # Select starting points for sequences\n",
    "                selected = idx_permuted[(ix_b * self.batch_size):((ix_b + 1) * self.batch_size)]\n",
    "            # Remember to return a list. PyTorch dataloader passes each item in the\n",
    "            # returned list to dataset.__getidx__. If we only return a single list,\n",
    "            # each scalar index in that list would be passed to __getidx__.\n",
    "            # If we return a list of lists, that inner list will be passed to __getidx__.\n",
    "            # Then this list will be used for indexing.\n",
    "            # Long story short: pass list of lists, not a single list.\n",
    "            yield [(s[0], range(s[1], s[1] + self.seq_length + 1)) for s in selected]"
   ]
  },
  {
   "cell_type": "code",
   "execution_count": 76,
   "id": "1fcaaeb2",
   "metadata": {},
   "outputs": [
    {
     "name": "stdout",
     "output_type": "stream",
     "text": [
      "Sampler, rank=0\n"
     ]
    }
   ],
   "source": []
  },
  {
   "cell_type": "code",
   "execution_count": 77,
   "id": "faf4e76f",
   "metadata": {},
   "outputs": [
    {
     "name": "stdout",
     "output_type": "stream",
     "text": [
      "0, 37, 1: idx_permuted = [(0, 0), (0, 1), (0, 2), (0, 3), (0, 4), (0, 5), (0, 6), (0, 7), (0, 8), (0, 9), (0, 10), (0, 11), (0, 12), (1, 0), (1, 1), (1, 2), (1, 3), (1, 4), (1, 5), (1, 6), (1, 7), (1, 8), (1, 9), (1, 10), (1, 11), (1, 12), (1, 13), (1, 14), (1, 15), (1, 16), (2, 0), (2, 1), (2, 2), (2, 3), (2, 4), (2, 5), (2, 6)]\n",
      "[(0, range(0, 5)), (0, range(1, 6)), (0, range(2, 7))]\n",
      "[(0, range(3, 8)), (0, range(4, 9)), (0, range(5, 10))]\n",
      "[(0, range(6, 11)), (0, range(7, 12)), (0, range(8, 13))]\n",
      "[(0, range(9, 14)), (0, range(10, 15)), (0, range(11, 16))]\n",
      "[(0, range(12, 17)), (1, range(0, 5)), (1, range(1, 6))]\n",
      "[(1, range(2, 7)), (1, range(3, 8)), (1, range(4, 9))]\n",
      "[(1, range(5, 10)), (1, range(6, 11)), (1, range(7, 12))]\n",
      "[(1, range(8, 13)), (1, range(9, 14)), (1, range(10, 15))]\n",
      "[(1, range(11, 16)), (1, range(12, 17)), (1, range(13, 18))]\n",
      "[(1, range(14, 19)), (1, range(15, 20)), (1, range(16, 21))]\n",
      "[(2, range(0, 5)), (2, range(1, 6)), (2, range(2, 7))]\n",
      "[(2, range(3, 8)), (2, range(4, 9)), (2, range(5, 10))]\n",
      "[(2, range(6, 11))]\n",
      "13 samples sampled\n"
     ]
    }
   ],
   "source": [
    "ctr = 0\n",
    "for s in s4:\n",
    "    if ctr < 50:\n",
    "        print(s)\n",
    "    ctr += 1\n",
    "    \n",
    "print(f\"{ctr} samples sampled\")"
   ]
  },
  {
   "cell_type": "code",
   "execution_count": 84,
   "id": "59ec9f1a",
   "metadata": {},
   "outputs": [
    {
     "name": "stdout",
     "output_type": "stream",
     "text": [
      "Sampler, rank=0\n",
      "self.shuffle = False, self.seed = 1337\n",
      "0, 37, 1: idx_permuted = [(0, 0), (0, 1), (0, 2), (0, 3), (0, 4), (0, 5), (0, 6), (0, 7), (0, 8), (0, 9), (0, 10), (0, 11), (0, 12), (1, 0), (1, 1), (1, 2), (1, 3), (1, 4), (1, 5), (1, 6), (1, 7), (1, 8), (1, 9), (1, 10), (1, 11), (1, 12), (1, 13), (1, 14), (1, 15), (1, 16), (2, 0), (2, 1), (2, 2), (2, 3), (2, 4), (2, 5), (2, 6)]\n"
     ]
    }
   ],
   "source": [
    "# In single tasking (num_replicas=1), the dist iterator should be the same as the single-process iterator\n",
    "s4 = sampler_v4(num_elements, seq_length, batch_size, num_replicas=1, rank=0, shuffle=False, seed=1337)\n",
    "s2 = sampler_v2(num_elements, seq_length, batch_size, shuffle=False, seed=1337)\n",
    "for sa, sb in zip(s2, s4):\n",
    "    assert(sa == sb)"
   ]
  },
  {
   "cell_type": "code",
   "execution_count": 87,
   "id": "1350fff0",
   "metadata": {},
   "outputs": [
    {
     "name": "stdout",
     "output_type": "stream",
     "text": [
      "Sampler, rank=0\n",
      "Sampler, rank=1\n"
     ]
    }
   ],
   "source": [
    "s4_0 = sampler_v4(num_elements, seq_length, batch_size, num_replicas=2, rank=0, shuffle=False, seed=1337)\n",
    "s4_1 = sampler_v4(num_elements, seq_length, batch_size, num_replicas=2, rank=1, shuffle=False, seed=1337)"
   ]
  },
  {
   "cell_type": "code",
   "execution_count": 88,
   "id": "30eb570c",
   "metadata": {},
   "outputs": [
    {
     "name": "stdout",
     "output_type": "stream",
     "text": [
      "=================================================\n",
      "0, 19, 2: idx_permuted = [(0, 0), (0, 2), (0, 4), (0, 6), (0, 8), (0, 10), (0, 12), (1, 1), (1, 3), (1, 5), (1, 7), (1, 9), (1, 11), (1, 13), (1, 15), (2, 0), (2, 2), (2, 4), (2, 6)]\n",
      "[(0, range(0, 5)), (0, range(2, 7)), (0, range(4, 9))]\n",
      "[(0, range(6, 11)), (0, range(8, 13)), (0, range(10, 15))]\n",
      "[(0, range(12, 17)), (1, range(1, 6)), (1, range(3, 8))]\n",
      "[(1, range(5, 10)), (1, range(7, 12)), (1, range(9, 14))]\n",
      "[(1, range(11, 16)), (1, range(13, 18)), (1, range(15, 20))]\n",
      "7 samples sampled\n",
      "=================================================\n",
      "1, 18, 2: idx_permuted = [(0, 1), (0, 3), (0, 5), (0, 7), (0, 9), (0, 11), (1, 0), (1, 2), (1, 4), (1, 6), (1, 8), (1, 10), (1, 12), (1, 14), (1, 16), (2, 1), (2, 3), (2, 5)]\n",
      "[(0, range(1, 6)), (0, range(3, 8)), (0, range(5, 10))]\n",
      "[(0, range(7, 12)), (0, range(9, 14)), (0, range(11, 16))]\n",
      "[(1, range(0, 5)), (1, range(2, 7)), (1, range(4, 9))]\n",
      "[(1, range(6, 11)), (1, range(8, 13)), (1, range(10, 15))]\n",
      "[(1, range(12, 17)), (1, range(14, 19)), (1, range(16, 21))]\n",
      "6 samples sampled\n"
     ]
    }
   ],
   "source": [
    "for ss in [s4_0, s4_1]:\n",
    "    print(\"=================================================\")\n",
    "    ss.set_epoch(1)\n",
    "    ctr = 0\n",
    "    for s in ss:\n",
    "        if ctr < 5:\n",
    "            print(s)\n",
    "        ctr += 1\n",
    "\n",
    "    print(f\"{ctr} samples sampled\")"
   ]
  },
  {
   "cell_type": "code",
   "execution_count": null,
   "id": "40af0fdd",
   "metadata": {},
   "outputs": [],
   "source": []
  }
 ],
 "metadata": {
  "kernelspec": {
   "display_name": "Python 3 (ipykernel)",
   "language": "python",
   "name": "python3"
  },
  "language_info": {
   "codemirror_mode": {
    "name": "ipython",
    "version": 3
   },
   "file_extension": ".py",
   "mimetype": "text/x-python",
   "name": "python",
   "nbconvert_exporter": "python",
   "pygments_lexer": "ipython3",
   "version": "3.9.13"
  }
 },
 "nbformat": 4,
 "nbformat_minor": 5
}
